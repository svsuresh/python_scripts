{
 "cells": [
  {
   "cell_type": "code",
   "execution_count": 1,
   "metadata": {},
   "outputs": [],
   "source": [
    "import re\n",
    "import os"
   ]
  },
  {
   "cell_type": "code",
   "execution_count": 40,
   "metadata": {},
   "outputs": [
    {
     "name": "stdout",
     "output_type": "stream",
     "text": [
      "p.ser2ala\n",
      "p.ala3tyr\n",
      "p.Tyr3pHe\n",
      "\n"
     ]
    }
   ],
   "source": [
    "with open (\"test.txt\") as f:\n",
    "    text=f.read()\n",
    "print(text)"
   ]
  },
  {
   "cell_type": "code",
   "execution_count": 41,
   "metadata": {},
   "outputs": [
    {
     "name": "stdout",
     "output_type": "stream",
     "text": [
      "[('p.', 'ser', '2', 'ala'), ('p.', 'ala', '3', 'tyr'), ('p.', 'Tyr', '3', 'pHe')]\n"
     ]
    }
   ],
   "source": [
    "test=re.findall(r'(\\w+\\.)([A-Za-z*]+)(\\d+)(\\w+)', text)\n",
    "print(test)"
   ]
  },
  {
   "cell_type": "code",
   "execution_count": 42,
   "metadata": {},
   "outputs": [],
   "source": [
    "with open (\"three_to_one_aa.txt\") as f:\n",
    "    dict=f.read()"
   ]
  },
  {
   "cell_type": "code",
   "execution_count": 43,
   "metadata": {},
   "outputs": [],
   "source": [
    "dic=tuple(re.findall(r'(\\w+)\\t(\\w+)', dict))"
   ]
  },
  {
   "cell_type": "code",
   "execution_count": 44,
   "metadata": {},
   "outputs": [],
   "source": [
    "dictt =  {}"
   ]
  },
  {
   "cell_type": "code",
   "execution_count": 45,
   "metadata": {},
   "outputs": [],
   "source": [
    "dictt=  {}\n",
    "for i in dic:\n",
    "    (aa,sym) = i\n",
    "    dictt[aa] = sym"
   ]
  },
  {
   "cell_type": "code",
   "execution_count": 46,
   "metadata": {},
   "outputs": [],
   "source": [
    "dictt[\"Ter\"]=\"*\""
   ]
  },
  {
   "cell_type": "code",
   "execution_count": 47,
   "metadata": {},
   "outputs": [
    {
     "name": "stdout",
     "output_type": "stream",
     "text": [
      "p.S2A\n",
      "p.A3Y\n",
      "p.Y3F\n"
     ]
    }
   ],
   "source": [
    "for item in  test:\n",
    "    print(\"{0}{1}{2}{3}\".format(item[0], dictt.get(item[1].capitalize()),item[2],dictt.get(item[3].capitalize())))"
   ]
  },
  {
   "cell_type": "code",
   "execution_count": 48,
   "metadata": {},
   "outputs": [],
   "source": [
    "with open('output.txt', 'w') as f:\n",
    "    for item in  test:\n",
    "        print(\"{0}{1}{2}{3}\".format(item[0], dictt.get(item[1].capitalize()),item[2],dictt.get(item[3].capitalize())), file=f)"
   ]
  },
  {
   "cell_type": "code",
   "execution_count": null,
   "metadata": {},
   "outputs": [],
   "source": []
  }
 ],
 "metadata": {
  "kernelspec": {
   "display_name": "Python 3",
   "language": "python",
   "name": "python3"
  },
  "language_info": {
   "codemirror_mode": {
    "name": "ipython",
    "version": 3
   },
   "file_extension": ".py",
   "mimetype": "text/x-python",
   "name": "python",
   "nbconvert_exporter": "python",
   "pygments_lexer": "ipython3",
   "version": "3.6.3"
  }
 },
 "nbformat": 4,
 "nbformat_minor": 2
}
