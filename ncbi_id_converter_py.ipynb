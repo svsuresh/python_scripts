{
 "cells": [
  {
   "cell_type": "code",
   "execution_count": 2,
   "metadata": {},
   "outputs": [],
   "source": [
    "from Bio import Entrez\n",
    "import pandas as pd"
   ]
  },
  {
   "cell_type": "code",
   "execution_count": 16,
   "metadata": {},
   "outputs": [],
   "source": [
    "with open (\"pmid.txt\") as f:\n",
    "    pmids=f.read()"
   ]
  },
  {
   "cell_type": "code",
   "execution_count": 17,
   "metadata": {},
   "outputs": [
    {
     "name": "stdout",
     "output_type": "stream",
     "text": [
      "29900339\n",
      "29897644\n",
      "21990379\n",
      "19304878\n",
      "\n"
     ]
    }
   ],
   "source": [
    "print(pmids)"
   ]
  },
  {
   "cell_type": "code",
   "execution_count": 19,
   "metadata": {},
   "outputs": [
    {
     "name": "stdout",
     "output_type": "stream",
     "text": [
      "29900339\n",
      "29897644\n",
      "21990379\n",
      "19304878\n"
     ]
    }
   ],
   "source": [
    "for i in pmids.splitlines():\n",
    "    print (i)"
   ]
  },
  {
   "cell_type": "code",
   "execution_count": 9,
   "metadata": {},
   "outputs": [],
   "source": [
    "Entrez.email = \"Your.Name.Here@example.org\""
   ]
  },
  {
   "cell_type": "code",
   "execution_count": 23,
   "metadata": {},
   "outputs": [],
   "source": [
    "test=[]\n",
    "for i in pmids.splitlines():\n",
    "    test.append(Entrez.read(Entrez.elink(dbfrom=\"pubmed\", id=i, linkname=\"pubmed_pmc\")))"
   ]
  },
  {
   "cell_type": "code",
   "execution_count": 24,
   "metadata": {},
   "outputs": [
    {
     "name": "stdout",
     "output_type": "stream",
     "text": [
      "[[{'ERROR': [], 'LinkSetDb': [], 'LinkSetDbHistory': [], 'DbFrom': 'pubmed', 'IdList': ['29900339']}], [{'ERROR': [], 'LinkSetDb': [], 'LinkSetDbHistory': [], 'DbFrom': 'pubmed', 'IdList': ['29897644']}], [{'ERROR': [], 'LinkSetDb': [{'Link': [{'Id': '3266030'}], 'DbTo': 'pmc', 'LinkName': 'pubmed_pmc'}], 'LinkSetDbHistory': [], 'DbFrom': 'pubmed', 'IdList': ['21990379']}], [{'ERROR': [], 'LinkSetDb': [{'Link': [{'Id': '2682512'}], 'DbTo': 'pmc', 'LinkName': 'pubmed_pmc'}], 'LinkSetDbHistory': [], 'DbFrom': 'pubmed', 'IdList': ['19304878']}]]\n"
     ]
    }
   ],
   "source": [
    "print(test)"
   ]
  },
  {
   "cell_type": "code",
   "execution_count": 26,
   "metadata": {},
   "outputs": [],
   "source": [
    "testa=[]\n",
    "for i in range(0,len(test)):\n",
    "    for j in test[i]:\n",
    "        if (len(j[\"LinkSetDb\"]))==0:\n",
    "            testa.append([j[\"IdList\"][0],\"NA\"])\n",
    "        if (len(j[\"LinkSetDb\"]))==1:\n",
    "           testa.append ([j[\"IdList\"][0],j[\"LinkSetDb\"][0][\"Link\"][0][\"Id\"]])"
   ]
  },
  {
   "cell_type": "code",
   "execution_count": 27,
   "metadata": {},
   "outputs": [
    {
     "name": "stdout",
     "output_type": "stream",
     "text": [
      "[['29900339', 'NA'], ['29897644', 'NA'], ['21990379', '3266030'], ['19304878', '2682512']]\n"
     ]
    }
   ],
   "source": [
    "print(testa)"
   ]
  },
  {
   "cell_type": "code",
   "execution_count": 28,
   "metadata": {},
   "outputs": [
    {
     "data": {
      "text/html": [
       "<div>\n",
       "<style scoped>\n",
       "    .dataframe tbody tr th:only-of-type {\n",
       "        vertical-align: middle;\n",
       "    }\n",
       "\n",
       "    .dataframe tbody tr th {\n",
       "        vertical-align: top;\n",
       "    }\n",
       "\n",
       "    .dataframe thead th {\n",
       "        text-align: right;\n",
       "    }\n",
       "</style>\n",
       "<table border=\"1\" class=\"dataframe\">\n",
       "  <thead>\n",
       "    <tr style=\"text-align: right;\">\n",
       "      <th></th>\n",
       "      <th>PMID</th>\n",
       "      <th>PMCID</th>\n",
       "    </tr>\n",
       "  </thead>\n",
       "  <tbody>\n",
       "    <tr>\n",
       "      <th>0</th>\n",
       "      <td>29900339</td>\n",
       "      <td>NA</td>\n",
       "    </tr>\n",
       "    <tr>\n",
       "      <th>1</th>\n",
       "      <td>29897644</td>\n",
       "      <td>NA</td>\n",
       "    </tr>\n",
       "    <tr>\n",
       "      <th>2</th>\n",
       "      <td>21990379</td>\n",
       "      <td>3266030</td>\n",
       "    </tr>\n",
       "    <tr>\n",
       "      <th>3</th>\n",
       "      <td>19304878</td>\n",
       "      <td>2682512</td>\n",
       "    </tr>\n",
       "  </tbody>\n",
       "</table>\n",
       "</div>"
      ],
      "text/plain": [
       "       PMID    PMCID\n",
       "0  29900339       NA\n",
       "1  29897644       NA\n",
       "2  21990379  3266030\n",
       "3  19304878  2682512"
      ]
     },
     "execution_count": 28,
     "metadata": {},
     "output_type": "execute_result"
    }
   ],
   "source": [
    "pd.DataFrame(testa, columns=[\"PMID\",\"PMCID\"])"
   ]
  }
 ],
 "metadata": {
  "kernelspec": {
   "display_name": "Python 3",
   "language": "python",
   "name": "python3"
  },
  "language_info": {
   "codemirror_mode": {
    "name": "ipython",
    "version": 3
   },
   "file_extension": ".py",
   "mimetype": "text/x-python",
   "name": "python",
   "nbconvert_exporter": "python",
   "pygments_lexer": "ipython3",
   "version": "3.6.5"
  }
 },
 "nbformat": 4,
 "nbformat_minor": 2
}
