{
 "cells": [
  {
   "cell_type": "code",
   "execution_count": 38,
   "metadata": {},
   "outputs": [],
   "source": [
    "from bioservices.kegg import KEGG"
   ]
  },
  {
   "cell_type": "code",
   "execution_count": 29,
   "metadata": {},
   "outputs": [],
   "source": [
    "k = KEGG()"
   ]
  },
  {
   "cell_type": "code",
   "execution_count": 30,
   "metadata": {},
   "outputs": [
    {
     "name": "stdout",
     "output_type": "stream",
     "text": [
      "['CRK', 'RUNX1', 'PSMD11', 'JUP']\n"
     ]
    }
   ],
   "source": [
    "genes=[\"CRK\",\"RUNX1\",\"PSMD11\",\"JUP\"]\n",
    "print(genes)"
   ]
  },
  {
   "cell_type": "code",
   "execution_count": 37,
   "metadata": {},
   "outputs": [
    {
     "name": "stdout",
     "output_type": "stream",
     "text": [
      "CRK\thsa04010\tMAPK signaling pathway\n",
      "CRK\thsa04012\tErbB signaling pathway\n",
      "CRK\thsa04015\tRap1 signaling pathway\n",
      "CRK\thsa04062\tChemokine signaling pathway\n",
      "CRK\thsa04510\tFocal adhesion\n",
      "CRK\thsa04666\tFc gamma R-mediated phagocytosis\n",
      "CRK\thsa04722\tNeurotrophin signaling pathway\n",
      "CRK\thsa04810\tRegulation of actin cytoskeleton\n",
      "CRK\thsa04910\tInsulin signaling pathway\n",
      "CRK\thsa05100\tBacterial invasion of epithelial cells\n",
      "CRK\thsa05131\tShigellosis\n",
      "CRK\thsa05200\tPathways in cancer\n",
      "CRK\thsa05206\tMicroRNAs in cancer\n",
      "CRK\thsa05211\tRenal cell carcinoma\n",
      "CRK\thsa05220\tChronic myeloid leukemia\n",
      "RUNX1\thsa04530\tTight junction\n",
      "RUNX1\thsa04659\tTh17 cell differentiation\n",
      "RUNX1\thsa05200\tPathways in cancer\n",
      "RUNX1\thsa05202\tTranscriptional misregulation in cancer\n",
      "RUNX1\thsa05220\tChronic myeloid leukemia\n",
      "RUNX1\thsa05221\tAcute myeloid leukemia\n",
      "PSMD11\thsa03050\tProteasome\n",
      "PSMD11\thsa05169\tEpstein-Barr virus infection\n",
      "JUP\thsa05200\tPathways in cancer\n",
      "JUP\thsa05202\tTranscriptional misregulation in cancer\n",
      "JUP\thsa05221\tAcute myeloid leukemia\n",
      "JUP\thsa05226\tGastric cancer\n",
      "JUP\thsa05412\tArrhythmogenic right ventricular cardiomyopathy (ARVC)\n"
     ]
    }
   ],
   "source": [
    "for i in genes:\n",
    "    j=k.get_pathway_by_gene(i,\"hsa\")\n",
    "    for keys,values in j.items():\n",
    "        print(i,keys, values, sep=\"\\t\")    "
   ]
  },
  {
   "cell_type": "code",
   "execution_count": 24,
   "metadata": {},
   "outputs": [
    {
     "name": "stdout",
     "output_type": "stream",
     "text": [
      "[{'hsa04530': 'Tight junction', 'hsa04659': 'Th17 cell differentiation', 'hsa05200': 'Pathways in cancer', 'hsa05202': 'Transcriptional misregulation in cancer', 'hsa05220': 'Chronic myeloid leukemia', 'hsa05221': 'Acute myeloid leukemia'}]\n"
     ]
    }
   ],
   "source": [
    "print([k.get_pathway_by_gene(\"runx1\", \"hsa\")])\n"
   ]
  }
 ],
 "metadata": {
  "kernelspec": {
   "display_name": "Python 3",
   "language": "python",
   "name": "python3"
  },
  "language_info": {
   "codemirror_mode": {
    "name": "ipython",
    "version": 3
   },
   "file_extension": ".py",
   "mimetype": "text/x-python",
   "name": "python",
   "nbconvert_exporter": "python",
   "pygments_lexer": "ipython3",
   "version": "3.6.5"
  }
 },
 "nbformat": 4,
 "nbformat_minor": 2
}
