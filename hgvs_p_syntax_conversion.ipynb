{
 "cells": [
  {
   "cell_type": "code",
   "execution_count": 5,
   "metadata": {},
   "outputs": [],
   "source": [
    "import os\n",
    "import re"
   ]
  },
  {
   "cell_type": "code",
   "execution_count": null,
   "metadata": {},
   "outputs": [],
   "source": [
    "number= input('Codon length in your file. 1 or 3?: ')\n",
    "user_input=input('Please input file path. File should have one column with pSyntax: ')"
   ]
  },
  {
   "cell_type": "code",
   "execution_count": null,
   "metadata": {},
   "outputs": [],
   "source": [
    "three_syntax_dict= {'Ala': 'A', 'Arg': 'R', 'Asn': 'N', 'Asp': 'D', 'Cys': 'C', 'Gln': 'Q', 'Glu': 'E', \n",
    "                    'Gly': 'G', 'His': 'H', 'Ile': 'I', 'Leu': 'L', 'Lys': 'K', 'Met': 'M', 'Phe': 'F', \n",
    "                    'Pro': 'P', 'Pyl': 'O', 'Ser': 'S', 'Sec': 'U', 'Thr': 'T', 'Trp': 'W', 'Tyr': 'Y', \n",
    "                    'Val': 'V', 'Asx': 'B', 'Glx': 'Z', 'Xaa': 'X', 'Xle': 'J', 'Ter': '*'}\n",
    "single_syntax_dict={v:k for k,v in three_syntax_dict.items()}"
   ]
  },
  {
   "cell_type": "code",
   "execution_count": null,
   "metadata": {},
   "outputs": [],
   "source": [
    "if os.path.exists(user_input):\n",
    "    print (user_input+ \" file exists. Output file name is output.txt\")\n",
    "else:\n",
    "    print (user_input+\" file doesn't exist..aborting\")\n",
    "    sys.exit(1)        "
   ]
  },
  {
   "cell_type": "code",
   "execution_count": null,
   "metadata": {},
   "outputs": [],
   "source": [
    "with open (user_input, \"r\") as f:\n",
    "    user_input=f.read()\n",
    "    re_input=re.findall(r'(.*:*p\\.)([\\w\\*]*)(\\d+)([\\w\\*]*)',user_input,re.IGNORECASE)"
   ]
  },
  {
   "cell_type": "code",
   "execution_count": null,
   "metadata": {},
   "outputs": [],
   "source": [
    "if len(re_input[0][1])==3:\n",
    "    print(\"3 letter HGVS syntax will be converted to 1 letter syntax\")\n",
    "elif len(re_input[0][1])==1:\n",
    "    print(\"1 letter HGVS syntax will be converted to 3 letter syntax\")"
   ]
  },
  {
   "cell_type": "code",
   "execution_count": null,
   "metadata": {},
   "outputs": [],
   "source": [
    "re_input_list=[list(i) for i in re_input]"
   ]
  },
  {
   "cell_type": "code",
   "execution_count": null,
   "metadata": {},
   "outputs": [],
   "source": [
    "if int(number)==1:\n",
    "    for i in re_input_list:\n",
    "        i[1]=single_syntax_dict.get(i[1].capitalize())\n",
    "        i[3]=single_syntax_dict.get(i[3].capitalize())"
   ]
  },
  {
   "cell_type": "code",
   "execution_count": null,
   "metadata": {},
   "outputs": [],
   "source": [
    "if int(number)==3:\n",
    "    for i in re_input_list:\n",
    "        i[1]=three_syntax_dict.get(i[1].capitalize())\n",
    "        i[3]=three_syntax_dict.get(i[3].capitalize()) "
   ]
  },
  {
   "cell_type": "code",
   "execution_count": null,
   "metadata": {},
   "outputs": [],
   "source": [
    "with open (\"output.txt\",\"w\") as f:\n",
    "    for i, j in zip(re_input, re_input_list):\n",
    "        print(\"\".join(i), \"\".join(j),sep='\\t', file=f)"
   ]
  },
  {
   "cell_type": "code",
   "execution_count": 6,
   "metadata": {
    "collapsed": true
   },
   "outputs": [
    {
     "name": "stdout",
     "output_type": "stream",
     "text": [
      "test.txt file exists. Output file name is output.txt\n",
      "3 letter HGVS syntax will be converted to 1 letter syntax\n",
      "conversion done. Output.txt is present in /home/suresh/scripts/python_exercises/psyntax_change\n"
     ]
    }
   ],
   "source": [
    "if os.path.exists(\"output.txt\"):\n",
    "    print (\"conversion done. Output.txt is present in \"+os.getcwd())"
   ]
  },
  {
   "cell_type": "code",
   "execution_count": null,
   "metadata": {},
   "outputs": [],
   "source": []
  }
 ],
 "metadata": {
  "kernelspec": {
   "display_name": "Python 3",
   "language": "python",
   "name": "python3"
  },
  "language_info": {
   "codemirror_mode": {
    "name": "ipython",
    "version": 3
   },
   "file_extension": ".py",
   "mimetype": "text/x-python",
   "name": "python",
   "nbconvert_exporter": "python",
   "pygments_lexer": "ipython3",
   "version": "3.8.8"
  }
 },
 "nbformat": 4,
 "nbformat_minor": 2
}
