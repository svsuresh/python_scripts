{
 "cells": [
  {
   "cell_type": "code",
   "execution_count": 1,
   "metadata": {},
   "outputs": [],
   "source": [
    "d = {}"
   ]
  },
  {
   "cell_type": "code",
   "execution_count": 3,
   "metadata": {},
   "outputs": [],
   "source": [
    "with open(\"sequence.fa\", 'r') as f:\n",
    "    for i in f:\n",
    "        d[i.strip(\"\\n> \")] = next(f).rstrip()"
   ]
  },
  {
   "cell_type": "code",
   "execution_count": 4,
   "metadata": {},
   "outputs": [],
   "source": [
    "ntdict = {\"A\": \"R\", \"T\": \"Y\", \"G\": \"R\", \"C\": \"Y\"}"
   ]
  },
  {
   "cell_type": "code",
   "execution_count": 5,
   "metadata": {},
   "outputs": [],
   "source": [
    "with open(\"output.fa\", \"w\") as f:\n",
    "    for key, value in d.items():\n",
    "        temp_key = \"\".join(ntdict.get(w.upper(), w) if not i % 3 else w for i, w in enumerate(list(d[key]), 1))\n",
    "        print(\"{0}{1}\\n{2}\".format(\">\", key, temp_key.upper()), file=f)"
   ]
  }
 ],
 "metadata": {
  "kernelspec": {
   "display_name": "Python 3",
   "language": "python",
   "name": "python3"
  },
  "language_info": {
   "codemirror_mode": {
    "name": "ipython",
    "version": 3
   },
   "file_extension": ".py",
   "mimetype": "text/x-python",
   "name": "python",
   "nbconvert_exporter": "python",
   "pygments_lexer": "ipython3",
   "version": "3.6.5"
  }
 },
 "nbformat": 4,
 "nbformat_minor": 2
}
