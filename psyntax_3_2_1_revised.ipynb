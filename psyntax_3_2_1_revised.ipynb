{
 "cells": [
  {
   "cell_type": "code",
   "execution_count": 5,
   "metadata": {},
   "outputs": [],
   "source": [
    "import os\n",
    "import re"
   ]
  },
  {
   "cell_type": "code",
   "execution_count": 49,
   "metadata": {},
   "outputs": [
    {
     "name": "stdout",
     "output_type": "stream",
     "text": [
      "NP1457:p.ser2ala\n",
      "p.ala3tyr\n",
      "NP123.1:p.Tyr3pHe\n",
      "\n"
     ]
    }
   ],
   "source": [
    "with open (\"../python_exercises/psytax_change/test.txt\") as f:\n",
    "    test=f.read()\n",
    "print(test)"
   ]
  },
  {
   "cell_type": "code",
   "execution_count": 50,
   "metadata": {},
   "outputs": [],
   "source": [
    "with open (\"../python_exercises/psytax_change/three_to_one_aa.txt\") as f:\n",
    "    code = {}\n",
    "    for i in f:\n",
    "        i = i.split()\n",
    "        code[i[0]] = i[1]"
   ]
  },
  {
   "cell_type": "code",
   "execution_count": 51,
   "metadata": {},
   "outputs": [
    {
     "name": "stdout",
     "output_type": "stream",
     "text": [
      "[('NP1457:p.', 'ser', '2', 'ala'), ('p.', 'ala', '3', 'tyr'), ('NP123.1:p.', 'Tyr', '3', 'pHe')]\n"
     ]
    }
   ],
   "source": [
    "test_pat=re.findall(r\"(.*:*p\\.)(\\w+)(\\d+)(\\w+)\",test,re.IGNORECASE)\n",
    "print(test_pat)"
   ]
  },
  {
   "cell_type": "code",
   "execution_count": 52,
   "metadata": {},
   "outputs": [],
   "source": [
    "test_pat_list=[list(i) for i in test_pat]"
   ]
  },
  {
   "cell_type": "code",
   "execution_count": 53,
   "metadata": {},
   "outputs": [],
   "source": [
    "for i in test_pat_list:\n",
    "    i[1]=code.get(i[1].capitalize())\n",
    "    i[3]=code.get(i[3].capitalize())"
   ]
  },
  {
   "cell_type": "code",
   "execution_count": 54,
   "metadata": {},
   "outputs": [
    {
     "name": "stdout",
     "output_type": "stream",
     "text": [
      "NP1457:p.S2A\n",
      "p.A3Y\n",
      "NP123.1:p.Y3F\n"
     ]
    }
   ],
   "source": [
    "for s in test_pat_list:\n",
    "    print(\"\".join(s))"
   ]
  },
  {
   "cell_type": "code",
   "execution_count": 55,
   "metadata": {},
   "outputs": [
    {
     "name": "stdout",
     "output_type": "stream",
     "text": [
      "NP1457:p.S2A\n",
      "p.A3Y\n",
      "NP123.1:p.Y3F\n"
     ]
    }
   ],
   "source": [
    "for s in test_pat_list:\n",
    "    print(*s,sep=\"\")"
   ]
  },
  {
   "cell_type": "code",
   "execution_count": 56,
   "metadata": {},
   "outputs": [],
   "source": [
    "with open (\"out.txt\",\"w\") as f:\n",
    "    for s in test_pat_list:\n",
    "        print(\"{0}{1}{2}{3}\".format(*s), file=f)"
   ]
  }
 ],
 "metadata": {
  "kernelspec": {
   "display_name": "Python 3",
   "language": "python",
   "name": "python3"
  },
  "language_info": {
   "codemirror_mode": {
    "name": "ipython",
    "version": 3
   },
   "file_extension": ".py",
   "mimetype": "text/x-python",
   "name": "python",
   "nbconvert_exporter": "python",
   "pygments_lexer": "ipython3",
   "version": "3.6.3"
  }
 },
 "nbformat": 4,
 "nbformat_minor": 2
}
